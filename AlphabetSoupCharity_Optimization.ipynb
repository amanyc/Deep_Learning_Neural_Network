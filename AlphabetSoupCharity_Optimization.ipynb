{
 "cells": [
  {
   "cell_type": "code",
   "execution_count": 1,
   "id": "a32f2082",
   "metadata": {},
   "outputs": [
    {
     "name": "stderr",
     "output_type": "stream",
     "text": [
      "2023-03-01 14:07:32.490413: I tensorflow/core/platform/cpu_feature_guard.cc:193] This TensorFlow binary is optimized with oneAPI Deep Neural Network Library (oneDNN) to use the following CPU instructions in performance-critical operations:  AVX2 FMA\n",
      "To enable them in other operations, rebuild TensorFlow with the appropriate compiler flags.\n"
     ]
    },
    {
     "data": {
      "text/html": [
       "<div>\n",
       "<style scoped>\n",
       "    .dataframe tbody tr th:only-of-type {\n",
       "        vertical-align: middle;\n",
       "    }\n",
       "\n",
       "    .dataframe tbody tr th {\n",
       "        vertical-align: top;\n",
       "    }\n",
       "\n",
       "    .dataframe thead th {\n",
       "        text-align: right;\n",
       "    }\n",
       "</style>\n",
       "<table border=\"1\" class=\"dataframe\">\n",
       "  <thead>\n",
       "    <tr style=\"text-align: right;\">\n",
       "      <th></th>\n",
       "      <th>EIN</th>\n",
       "      <th>NAME</th>\n",
       "      <th>APPLICATION_TYPE</th>\n",
       "      <th>AFFILIATION</th>\n",
       "      <th>CLASSIFICATION</th>\n",
       "      <th>USE_CASE</th>\n",
       "      <th>ORGANIZATION</th>\n",
       "      <th>STATUS</th>\n",
       "      <th>INCOME_AMT</th>\n",
       "      <th>SPECIAL_CONSIDERATIONS</th>\n",
       "      <th>ASK_AMT</th>\n",
       "      <th>IS_SUCCESSFUL</th>\n",
       "    </tr>\n",
       "  </thead>\n",
       "  <tbody>\n",
       "    <tr>\n",
       "      <th>0</th>\n",
       "      <td>10520599</td>\n",
       "      <td>BLUE KNIGHTS MOTORCYCLE CLUB</td>\n",
       "      <td>T10</td>\n",
       "      <td>Independent</td>\n",
       "      <td>C1000</td>\n",
       "      <td>ProductDev</td>\n",
       "      <td>Association</td>\n",
       "      <td>1</td>\n",
       "      <td>0</td>\n",
       "      <td>N</td>\n",
       "      <td>5000</td>\n",
       "      <td>1</td>\n",
       "    </tr>\n",
       "    <tr>\n",
       "      <th>1</th>\n",
       "      <td>10531628</td>\n",
       "      <td>AMERICAN CHESAPEAKE CLUB CHARITABLE TR</td>\n",
       "      <td>T3</td>\n",
       "      <td>Independent</td>\n",
       "      <td>C2000</td>\n",
       "      <td>Preservation</td>\n",
       "      <td>Co-operative</td>\n",
       "      <td>1</td>\n",
       "      <td>1-9999</td>\n",
       "      <td>N</td>\n",
       "      <td>108590</td>\n",
       "      <td>1</td>\n",
       "    </tr>\n",
       "    <tr>\n",
       "      <th>2</th>\n",
       "      <td>10547893</td>\n",
       "      <td>ST CLOUD PROFESSIONAL FIREFIGHTERS</td>\n",
       "      <td>T5</td>\n",
       "      <td>CompanySponsored</td>\n",
       "      <td>C3000</td>\n",
       "      <td>ProductDev</td>\n",
       "      <td>Association</td>\n",
       "      <td>1</td>\n",
       "      <td>0</td>\n",
       "      <td>N</td>\n",
       "      <td>5000</td>\n",
       "      <td>0</td>\n",
       "    </tr>\n",
       "    <tr>\n",
       "      <th>3</th>\n",
       "      <td>10553066</td>\n",
       "      <td>SOUTHSIDE ATHLETIC ASSOCIATION</td>\n",
       "      <td>T3</td>\n",
       "      <td>CompanySponsored</td>\n",
       "      <td>C2000</td>\n",
       "      <td>Preservation</td>\n",
       "      <td>Trust</td>\n",
       "      <td>1</td>\n",
       "      <td>10000-24999</td>\n",
       "      <td>N</td>\n",
       "      <td>6692</td>\n",
       "      <td>1</td>\n",
       "    </tr>\n",
       "    <tr>\n",
       "      <th>4</th>\n",
       "      <td>10556103</td>\n",
       "      <td>GENETIC RESEARCH INSTITUTE OF THE DESERT</td>\n",
       "      <td>T3</td>\n",
       "      <td>Independent</td>\n",
       "      <td>C1000</td>\n",
       "      <td>Heathcare</td>\n",
       "      <td>Trust</td>\n",
       "      <td>1</td>\n",
       "      <td>100000-499999</td>\n",
       "      <td>N</td>\n",
       "      <td>142590</td>\n",
       "      <td>1</td>\n",
       "    </tr>\n",
       "  </tbody>\n",
       "</table>\n",
       "</div>"
      ],
      "text/plain": [
       "        EIN                                      NAME APPLICATION_TYPE  \\\n",
       "0  10520599              BLUE KNIGHTS MOTORCYCLE CLUB              T10   \n",
       "1  10531628    AMERICAN CHESAPEAKE CLUB CHARITABLE TR               T3   \n",
       "2  10547893        ST CLOUD PROFESSIONAL FIREFIGHTERS               T5   \n",
       "3  10553066            SOUTHSIDE ATHLETIC ASSOCIATION               T3   \n",
       "4  10556103  GENETIC RESEARCH INSTITUTE OF THE DESERT               T3   \n",
       "\n",
       "        AFFILIATION CLASSIFICATION      USE_CASE  ORGANIZATION  STATUS  \\\n",
       "0       Independent          C1000    ProductDev   Association       1   \n",
       "1       Independent          C2000  Preservation  Co-operative       1   \n",
       "2  CompanySponsored          C3000    ProductDev   Association       1   \n",
       "3  CompanySponsored          C2000  Preservation         Trust       1   \n",
       "4       Independent          C1000     Heathcare         Trust       1   \n",
       "\n",
       "      INCOME_AMT SPECIAL_CONSIDERATIONS  ASK_AMT  IS_SUCCESSFUL  \n",
       "0              0                      N     5000              1  \n",
       "1         1-9999                      N   108590              1  \n",
       "2              0                      N     5000              0  \n",
       "3    10000-24999                      N     6692              1  \n",
       "4  100000-499999                      N   142590              1  "
      ]
     },
     "execution_count": 1,
     "metadata": {},
     "output_type": "execute_result"
    }
   ],
   "source": [
    "# Import our dependencies\n",
    "from sklearn.model_selection import train_test_split\n",
    "from sklearn.preprocessing import StandardScaler,OneHotEncoder\n",
    "import pandas as pd\n",
    "import tensorflow as tf\n",
    "\n",
    "#  Import and read the charity_data.csv.\n",
    "import pandas as pd \n",
    "application_df = pd.read_csv(\"charity_data.csv\")\n",
    "application_df.head()"
   ]
  },
  {
   "cell_type": "code",
   "execution_count": 2,
   "id": "35c42f57",
   "metadata": {
    "scrolled": true
   },
   "outputs": [
    {
     "data": {
      "text/plain": [
       "EIN                       34299\n",
       "NAME                      19568\n",
       "APPLICATION_TYPE             17\n",
       "AFFILIATION                   6\n",
       "CLASSIFICATION               71\n",
       "USE_CASE                      5\n",
       "ORGANIZATION                  4\n",
       "STATUS                        2\n",
       "INCOME_AMT                    9\n",
       "SPECIAL_CONSIDERATIONS        2\n",
       "ASK_AMT                    8747\n",
       "IS_SUCCESSFUL                 2\n",
       "dtype: int64"
      ]
     },
     "execution_count": 2,
     "metadata": {},
     "output_type": "execute_result"
    }
   ],
   "source": [
    "# Determine the number of unique values in each column.\n",
    "application_df.nunique()"
   ]
  },
  {
   "cell_type": "code",
   "execution_count": 3,
   "id": "04f47b36",
   "metadata": {},
   "outputs": [],
   "source": [
    "# Drop the non-beneficial ID columns, 'EIN' and 'NAME'.\n",
    "application_df = application_df.drop(columns=[\"EIN\", \"NAME\", \"ORGANIZATION\"])"
   ]
  },
  {
   "cell_type": "code",
   "execution_count": 7,
   "id": "ae53d7e6",
   "metadata": {},
   "outputs": [
    {
     "data": {
      "text/plain": [
       "ASK_AMT\n",
       "5000          25398\n",
       "5001              1\n",
       "5006              2\n",
       "5016              1\n",
       "5037              1\n",
       "              ...  \n",
       "3391919220        1\n",
       "4653011914        1\n",
       "5591584994        1\n",
       "8556638692        1\n",
       "8597806340        1\n",
       "Name: APPLICATION_TYPE, Length: 8747, dtype: int64"
      ]
     },
     "execution_count": 7,
     "metadata": {},
     "output_type": "execute_result"
    }
   ],
   "source": [
    "grouping = application_df.groupby(\"ASK_AMT\")[\"APPLICATION_TYPE\"].count()\n",
    "grouping"
   ]
  },
  {
   "cell_type": "code",
   "execution_count": 10,
   "id": "ef9b3ffa",
   "metadata": {},
   "outputs": [
    {
     "ename": "ModuleNotFoundError",
     "evalue": "No module named 'keras_tuner'",
     "output_type": "error",
     "traceback": [
      "\u001b[0;31m---------------------------------------------------------------------------\u001b[0m",
      "\u001b[0;31mModuleNotFoundError\u001b[0m                       Traceback (most recent call last)",
      "\u001b[0;32m/var/folders/zn/r7z1035d1g74nx2ghbmkmgm40000gn/T/ipykernel_34553/2401021641.py\u001b[0m in \u001b[0;36m<module>\u001b[0;34m\u001b[0m\n\u001b[0;32m----> 1\u001b[0;31m \u001b[0;32mimport\u001b[0m \u001b[0mkeras_tuner\u001b[0m \u001b[0;32mas\u001b[0m \u001b[0mkt\u001b[0m\u001b[0;34m\u001b[0m\u001b[0;34m\u001b[0m\u001b[0m\n\u001b[0m",
      "\u001b[0;31mModuleNotFoundError\u001b[0m: No module named 'keras_tuner'"
     ]
    }
   ],
   "source": [
    "import keras_tuner as kt"
   ]
  },
  {
   "cell_type": "code",
   "execution_count": 11,
   "id": "a4ef74c9",
   "metadata": {},
   "outputs": [
    {
     "name": "stdout",
     "output_type": "stream",
     "text": [
      "Collecting keras_tuner\n",
      "  Downloading keras_tuner-1.3.0-py3-none-any.whl (167 kB)\n",
      "\u001b[2K     \u001b[90m━━━━━━━━━━━━━━━━━━━━━━━━━━━━━━━━━━━━━━━\u001b[0m \u001b[32m167.3/167.3 kB\u001b[0m \u001b[31m2.8 MB/s\u001b[0m eta \u001b[36m0:00:00\u001b[0m00:01\u001b[0m\n",
      "\u001b[?25hRequirement already satisfied: requests in /Users/ama/opt/anaconda3/envs/mlenv/lib/python3.7/site-packages (from keras_tuner) (2.28.1)\n",
      "Requirement already satisfied: packaging in /Users/ama/opt/anaconda3/envs/mlenv/lib/python3.7/site-packages (from keras_tuner) (21.3)\n",
      "Requirement already satisfied: ipython in /Users/ama/opt/anaconda3/envs/mlenv/lib/python3.7/site-packages (from keras_tuner) (7.31.1)\n",
      "Requirement already satisfied: tensorflow>=2.0 in /Users/ama/opt/anaconda3/envs/mlenv/lib/python3.7/site-packages (from keras_tuner) (2.11.0)\n",
      "Collecting kt-legacy\n",
      "  Downloading kt_legacy-1.0.4-py3-none-any.whl (9.6 kB)\n",
      "Requirement already satisfied: astunparse>=1.6.0 in /Users/ama/opt/anaconda3/envs/mlenv/lib/python3.7/site-packages (from tensorflow>=2.0->keras_tuner) (1.6.3)\n",
      "Requirement already satisfied: protobuf<3.20,>=3.9.2 in /Users/ama/opt/anaconda3/envs/mlenv/lib/python3.7/site-packages (from tensorflow>=2.0->keras_tuner) (3.19.6)\n",
      "Requirement already satisfied: wrapt>=1.11.0 in /Users/ama/opt/anaconda3/envs/mlenv/lib/python3.7/site-packages (from tensorflow>=2.0->keras_tuner) (1.14.1)\n",
      "Requirement already satisfied: opt-einsum>=2.3.2 in /Users/ama/opt/anaconda3/envs/mlenv/lib/python3.7/site-packages (from tensorflow>=2.0->keras_tuner) (3.3.0)\n",
      "Requirement already satisfied: libclang>=13.0.0 in /Users/ama/opt/anaconda3/envs/mlenv/lib/python3.7/site-packages (from tensorflow>=2.0->keras_tuner) (15.0.6.1)\n",
      "Requirement already satisfied: gast<=0.4.0,>=0.2.1 in /Users/ama/opt/anaconda3/envs/mlenv/lib/python3.7/site-packages (from tensorflow>=2.0->keras_tuner) (0.4.0)\n",
      "Requirement already satisfied: numpy>=1.20 in /Users/ama/opt/anaconda3/envs/mlenv/lib/python3.7/site-packages (from tensorflow>=2.0->keras_tuner) (1.21.5)\n",
      "Requirement already satisfied: keras<2.12,>=2.11.0 in /Users/ama/opt/anaconda3/envs/mlenv/lib/python3.7/site-packages (from tensorflow>=2.0->keras_tuner) (2.11.0)\n",
      "Requirement already satisfied: flatbuffers>=2.0 in /Users/ama/opt/anaconda3/envs/mlenv/lib/python3.7/site-packages (from tensorflow>=2.0->keras_tuner) (23.1.21)\n",
      "Requirement already satisfied: six>=1.12.0 in /Users/ama/opt/anaconda3/envs/mlenv/lib/python3.7/site-packages (from tensorflow>=2.0->keras_tuner) (1.16.0)\n",
      "Requirement already satisfied: tensorflow-io-gcs-filesystem>=0.23.1 in /Users/ama/opt/anaconda3/envs/mlenv/lib/python3.7/site-packages (from tensorflow>=2.0->keras_tuner) (0.30.0)\n",
      "Requirement already satisfied: typing-extensions>=3.6.6 in /Users/ama/opt/anaconda3/envs/mlenv/lib/python3.7/site-packages (from tensorflow>=2.0->keras_tuner) (4.3.0)\n",
      "Requirement already satisfied: tensorflow-estimator<2.12,>=2.11.0 in /Users/ama/opt/anaconda3/envs/mlenv/lib/python3.7/site-packages (from tensorflow>=2.0->keras_tuner) (2.11.0)\n",
      "Requirement already satisfied: absl-py>=1.0.0 in /Users/ama/opt/anaconda3/envs/mlenv/lib/python3.7/site-packages (from tensorflow>=2.0->keras_tuner) (1.4.0)\n",
      "Requirement already satisfied: google-pasta>=0.1.1 in /Users/ama/opt/anaconda3/envs/mlenv/lib/python3.7/site-packages (from tensorflow>=2.0->keras_tuner) (0.2.0)\n",
      "Requirement already satisfied: tensorboard<2.12,>=2.11 in /Users/ama/opt/anaconda3/envs/mlenv/lib/python3.7/site-packages (from tensorflow>=2.0->keras_tuner) (2.11.2)\n",
      "Requirement already satisfied: termcolor>=1.1.0 in /Users/ama/opt/anaconda3/envs/mlenv/lib/python3.7/site-packages (from tensorflow>=2.0->keras_tuner) (2.2.0)\n",
      "Requirement already satisfied: h5py>=2.9.0 in /Users/ama/opt/anaconda3/envs/mlenv/lib/python3.7/site-packages (from tensorflow>=2.0->keras_tuner) (2.10.0)\n",
      "Requirement already satisfied: grpcio<2.0,>=1.24.3 in /Users/ama/opt/anaconda3/envs/mlenv/lib/python3.7/site-packages (from tensorflow>=2.0->keras_tuner) (1.51.1)\n",
      "Requirement already satisfied: setuptools in /Users/ama/opt/anaconda3/envs/mlenv/lib/python3.7/site-packages (from tensorflow>=2.0->keras_tuner) (63.4.1)\n",
      "Requirement already satisfied: traitlets>=4.2 in /Users/ama/opt/anaconda3/envs/mlenv/lib/python3.7/site-packages (from ipython->keras_tuner) (5.1.1)\n",
      "Requirement already satisfied: decorator in /Users/ama/opt/anaconda3/envs/mlenv/lib/python3.7/site-packages (from ipython->keras_tuner) (5.1.1)\n",
      "Requirement already satisfied: backcall in /Users/ama/opt/anaconda3/envs/mlenv/lib/python3.7/site-packages (from ipython->keras_tuner) (0.2.0)\n",
      "Requirement already satisfied: pygments in /Users/ama/opt/anaconda3/envs/mlenv/lib/python3.7/site-packages (from ipython->keras_tuner) (2.11.2)\n",
      "Requirement already satisfied: jedi>=0.16 in /Users/ama/opt/anaconda3/envs/mlenv/lib/python3.7/site-packages (from ipython->keras_tuner) (0.18.1)\n",
      "Requirement already satisfied: appnope in /Users/ama/opt/anaconda3/envs/mlenv/lib/python3.7/site-packages (from ipython->keras_tuner) (0.1.2)\n",
      "Requirement already satisfied: matplotlib-inline in /Users/ama/opt/anaconda3/envs/mlenv/lib/python3.7/site-packages (from ipython->keras_tuner) (0.1.6)\n",
      "Requirement already satisfied: pexpect>4.3 in /Users/ama/opt/anaconda3/envs/mlenv/lib/python3.7/site-packages (from ipython->keras_tuner) (4.8.0)\n",
      "Requirement already satisfied: pickleshare in /Users/ama/opt/anaconda3/envs/mlenv/lib/python3.7/site-packages (from ipython->keras_tuner) (0.7.5)\n",
      "Requirement already satisfied: prompt-toolkit!=3.0.0,!=3.0.1,<3.1.0,>=2.0.0 in /Users/ama/opt/anaconda3/envs/mlenv/lib/python3.7/site-packages (from ipython->keras_tuner) (3.0.20)\n",
      "Requirement already satisfied: pyparsing!=3.0.5,>=2.0.2 in /Users/ama/opt/anaconda3/envs/mlenv/lib/python3.7/site-packages (from packaging->keras_tuner) (3.0.9)\n",
      "Requirement already satisfied: charset-normalizer<3,>=2 in /Users/ama/opt/anaconda3/envs/mlenv/lib/python3.7/site-packages (from requests->keras_tuner) (2.0.4)\n",
      "Requirement already satisfied: idna<4,>=2.5 in /Users/ama/opt/anaconda3/envs/mlenv/lib/python3.7/site-packages (from requests->keras_tuner) (3.3)\n",
      "Requirement already satisfied: urllib3<1.27,>=1.21.1 in /Users/ama/opt/anaconda3/envs/mlenv/lib/python3.7/site-packages (from requests->keras_tuner) (1.26.11)\n",
      "Requirement already satisfied: certifi>=2017.4.17 in /Users/ama/opt/anaconda3/envs/mlenv/lib/python3.7/site-packages (from requests->keras_tuner) (2022.9.24)\n",
      "Requirement already satisfied: wheel<1.0,>=0.23.0 in /Users/ama/opt/anaconda3/envs/mlenv/lib/python3.7/site-packages (from astunparse>=1.6.0->tensorflow>=2.0->keras_tuner) (0.37.1)\n",
      "Requirement already satisfied: parso<0.9.0,>=0.8.0 in /Users/ama/opt/anaconda3/envs/mlenv/lib/python3.7/site-packages (from jedi>=0.16->ipython->keras_tuner) (0.8.3)\n",
      "Requirement already satisfied: ptyprocess>=0.5 in /Users/ama/opt/anaconda3/envs/mlenv/lib/python3.7/site-packages (from pexpect>4.3->ipython->keras_tuner) (0.7.0)\n",
      "Requirement already satisfied: wcwidth in /Users/ama/opt/anaconda3/envs/mlenv/lib/python3.7/site-packages (from prompt-toolkit!=3.0.0,!=3.0.1,<3.1.0,>=2.0.0->ipython->keras_tuner) (0.2.5)\n",
      "Requirement already satisfied: werkzeug>=1.0.1 in /Users/ama/opt/anaconda3/envs/mlenv/lib/python3.7/site-packages (from tensorboard<2.12,>=2.11->tensorflow>=2.0->keras_tuner) (2.0.3)\n",
      "Requirement already satisfied: tensorboard-data-server<0.7.0,>=0.6.0 in /Users/ama/opt/anaconda3/envs/mlenv/lib/python3.7/site-packages (from tensorboard<2.12,>=2.11->tensorflow>=2.0->keras_tuner) (0.6.1)\n",
      "Requirement already satisfied: tensorboard-plugin-wit>=1.6.0 in /Users/ama/opt/anaconda3/envs/mlenv/lib/python3.7/site-packages (from tensorboard<2.12,>=2.11->tensorflow>=2.0->keras_tuner) (1.8.1)\n",
      "Requirement already satisfied: google-auth-oauthlib<0.5,>=0.4.1 in /Users/ama/opt/anaconda3/envs/mlenv/lib/python3.7/site-packages (from tensorboard<2.12,>=2.11->tensorflow>=2.0->keras_tuner) (0.4.6)\n",
      "Requirement already satisfied: markdown>=2.6.8 in /Users/ama/opt/anaconda3/envs/mlenv/lib/python3.7/site-packages (from tensorboard<2.12,>=2.11->tensorflow>=2.0->keras_tuner) (3.3.4)\n",
      "Requirement already satisfied: google-auth<3,>=1.6.3 in /Users/ama/opt/anaconda3/envs/mlenv/lib/python3.7/site-packages (from tensorboard<2.12,>=2.11->tensorflow>=2.0->keras_tuner) (2.16.1)\n"
     ]
    },
    {
     "name": "stdout",
     "output_type": "stream",
     "text": [
      "Requirement already satisfied: rsa<5,>=3.1.4 in /Users/ama/opt/anaconda3/envs/mlenv/lib/python3.7/site-packages (from google-auth<3,>=1.6.3->tensorboard<2.12,>=2.11->tensorflow>=2.0->keras_tuner) (4.9)\n",
      "Requirement already satisfied: cachetools<6.0,>=2.0.0 in /Users/ama/opt/anaconda3/envs/mlenv/lib/python3.7/site-packages (from google-auth<3,>=1.6.3->tensorboard<2.12,>=2.11->tensorflow>=2.0->keras_tuner) (5.3.0)\n",
      "Requirement already satisfied: pyasn1-modules>=0.2.1 in /Users/ama/opt/anaconda3/envs/mlenv/lib/python3.7/site-packages (from google-auth<3,>=1.6.3->tensorboard<2.12,>=2.11->tensorflow>=2.0->keras_tuner) (0.2.8)\n",
      "Requirement already satisfied: requests-oauthlib>=0.7.0 in /Users/ama/opt/anaconda3/envs/mlenv/lib/python3.7/site-packages (from google-auth-oauthlib<0.5,>=0.4.1->tensorboard<2.12,>=2.11->tensorflow>=2.0->keras_tuner) (1.3.1)\n",
      "Requirement already satisfied: importlib-metadata in /Users/ama/opt/anaconda3/envs/mlenv/lib/python3.7/site-packages (from markdown>=2.6.8->tensorboard<2.12,>=2.11->tensorflow>=2.0->keras_tuner) (3.10.0)\n",
      "Requirement already satisfied: pyasn1<0.5.0,>=0.4.6 in /Users/ama/opt/anaconda3/envs/mlenv/lib/python3.7/site-packages (from pyasn1-modules>=0.2.1->google-auth<3,>=1.6.3->tensorboard<2.12,>=2.11->tensorflow>=2.0->keras_tuner) (0.4.8)\n",
      "Requirement already satisfied: oauthlib>=3.0.0 in /Users/ama/opt/anaconda3/envs/mlenv/lib/python3.7/site-packages (from requests-oauthlib>=0.7.0->google-auth-oauthlib<0.5,>=0.4.1->tensorboard<2.12,>=2.11->tensorflow>=2.0->keras_tuner) (3.2.2)\n",
      "Requirement already satisfied: zipp>=0.5 in /Users/ama/opt/anaconda3/envs/mlenv/lib/python3.7/site-packages (from importlib-metadata->markdown>=2.6.8->tensorboard<2.12,>=2.11->tensorflow>=2.0->keras_tuner) (3.8.0)\n",
      "Installing collected packages: kt-legacy, keras_tuner\n",
      "Successfully installed keras_tuner-1.3.0 kt-legacy-1.0.4\n",
      "Note: you may need to restart the kernel to use updated packages.\n"
     ]
    }
   ],
   "source": [
    "pip install keras_tuner"
   ]
  },
  {
   "cell_type": "code",
   "execution_count": 12,
   "id": "0b71067e",
   "metadata": {},
   "outputs": [
    {
     "name": "stdout",
     "output_type": "stream",
     "text": [
      "Name: keras-tuner\n",
      "Version: 1.3.0\n",
      "Summary: A Hyperparameter Tuning Library for Keras\n",
      "Home-page: https://github.com/keras-team/keras-tuner\n",
      "Author: The KerasTuner authors\n",
      "Author-email: \n",
      "License: Apache License 2.0\n",
      "Location: /Users/ama/opt/anaconda3/envs/mlenv/lib/python3.7/site-packages\n",
      "Requires: ipython, kt-legacy, packaging, requests, tensorflow\n",
      "Required-by: \n",
      "Note: you may need to restart the kernel to use updated packages.\n"
     ]
    }
   ],
   "source": [
    "pip show keras_tuner"
   ]
  },
  {
   "cell_type": "code",
   "execution_count": null,
   "id": "fe2321af",
   "metadata": {},
   "outputs": [],
   "source": [
    "app_types = application_df.APPLICATION_TYPE.value_counts()\n",
    "app_types"
   ]
  },
  {
   "cell_type": "code",
   "execution_count": null,
   "id": "64af23c3",
   "metadata": {
    "scrolled": true
   },
   "outputs": [],
   "source": [
    "# Determine which values to replace if counts are less than ...?\n",
    "\n",
    "replace_application = list(app_types[app_types <20000].index)\n",
    "replace_application\n",
    "\n",
    "# Replace in dataframe\n",
    "for app in replace_application:\n",
    "    application_df.APPLICATION_TYPE = application_df.APPLICATION_TYPE.replace(app,\"Other\")\n",
    "    \n",
    "# Check to make sure binning was successful\n",
    "application_df.APPLICATION_TYPE.value_counts()"
   ]
  },
  {
   "cell_type": "code",
   "execution_count": null,
   "id": "e59365e4",
   "metadata": {},
   "outputs": [],
   "source": [
    "application_df.dtypes"
   ]
  },
  {
   "cell_type": "code",
   "execution_count": null,
   "id": "818102f6",
   "metadata": {},
   "outputs": [],
   "source": [
    "application_df[['INCOME_FROM','INCOME_TO']] = application_df['INCOME_AMT'].str.split('-',expand=True)\n",
    "application_df.dtypes\n",
    "\n",
    "# Replace 0 on single column\n",
    "application_df[\"INCOME_TO\"] = application_df[\"INCOME_TO\"].fillna(0) \n",
    "\n",
    "application_df[\"INCOME_TO\"] = application_df[\"INCOME_TO\"].replace(to_replace ='[M]', value = '000000', regex = True)\n",
    "#application_df.head(20)\n",
    "application_df.dtypes\n",
    "application_df['INCOME_TO'] = application_df['INCOME_TO'].astype(str).astype(int)\n",
    "application_df = application_df.drop(columns=[\"INCOME_FROM\", \"INCOME_AMT\"])"
   ]
  },
  {
   "cell_type": "code",
   "execution_count": null,
   "id": "99afadf9",
   "metadata": {},
   "outputs": [],
   "source": [
    "# Look at CLASSIFICATION value counts for binning\n",
    "cls_counts = application_df.CLASSIFICATION.value_counts()\n",
    "cls_counts.head()"
   ]
  },
  {
   "cell_type": "code",
   "execution_count": null,
   "id": "aedd2774",
   "metadata": {},
   "outputs": [],
   "source": [
    "# Determine which values to replace if counts are less than ..?\n",
    "replace_class = list(cls_counts[cls_counts <700].index)\n",
    "\n",
    "# Replace in dataframe\n",
    "for cls in replace_class:\n",
    "    application_df.CLASSIFICATION = application_df.CLASSIFICATION.replace(cls,\"Other\")\n",
    "    \n",
    "# Check to make sure binning was successful\n",
    "application_df.CLASSIFICATION.value_counts()"
   ]
  },
  {
   "cell_type": "code",
   "execution_count": null,
   "id": "2003f496",
   "metadata": {},
   "outputs": [],
   "source": [
    "# Generate our categorical variable lists\n",
    "application_cat = application_df.dtypes[application_df.dtypes == 'object'].index.tolist()\n",
    "application_cat"
   ]
  },
  {
   "cell_type": "code",
   "execution_count": null,
   "id": "2ce9724c",
   "metadata": {},
   "outputs": [],
   "source": [
    "# Create a OneHotEncoder instance\n",
    "enc = OneHotEncoder(sparse=False)\n",
    "\n",
    "# Fit and transform the OneHotEncoder using the categorical variable list\n",
    "encode_df = pd.DataFrame(enc.fit_transform(application_df[application_cat]))\n",
    "\n",
    "# Add the encoded variable names to the dataframe\n",
    "encode_df.columns = enc.get_feature_names(application_cat)\n",
    "encode_df.head()"
   ]
  },
  {
   "cell_type": "code",
   "execution_count": null,
   "id": "239a2420",
   "metadata": {},
   "outputs": [],
   "source": [
    "# Merge one-hot encoded features and drop the originals\n",
    "application_df = application_df.merge(encode_df, left_index=True, right_index=True)\n",
    "application_df = application_df.drop(application_cat,1)\n",
    "application_df.head()"
   ]
  },
  {
   "cell_type": "code",
   "execution_count": null,
   "id": "a85b4fbb",
   "metadata": {},
   "outputs": [],
   "source": [
    "# Split our preprocessed data into our features and target arrays\n",
    "y = application_df[\"IS_SUCCESSFUL\"]\n",
    "X = application_df.drop(columns=[\"IS_SUCCESSFUL\"])\n",
    "\n",
    "# Split the preprocessed data into a training and testing dataset\n",
    "X_train, X_test, y_train, y_test = train_test_split(X, y)"
   ]
  },
  {
   "cell_type": "code",
   "execution_count": null,
   "id": "9b7abb9e",
   "metadata": {},
   "outputs": [],
   "source": [
    "# Create a StandardScaler instances\n",
    "scaler = StandardScaler()\n",
    "\n",
    "# Fit the StandardScaler\n",
    "X_scaler = scaler.fit(X_train)\n",
    "\n",
    "# Scale the data\n",
    "X_train_scaled = X_scaler.transform(X_train)\n",
    "X_test_scaled = X_scaler.transform(X_test)"
   ]
  },
  {
   "cell_type": "code",
   "execution_count": null,
   "id": "916a36d4",
   "metadata": {},
   "outputs": [],
   "source": [
    "number_input_features = X_train.shape[1]\n",
    "number_input_features"
   ]
  },
  {
   "cell_type": "code",
   "execution_count": null,
   "id": "d4d46d57",
   "metadata": {},
   "outputs": [],
   "source": [
    "# Define the model - deep neural net, i.e., the number of input features and hidden nodes for each layer.\n",
    "number_input_features = X_train.shape[1]\n",
    "hidden_nodes_layer1 = 50\n",
    "hidden_nodes_layer2 = 25\n",
    "\n",
    "nn = tf.keras.models.Sequential()\n",
    "\n",
    "# First hidden layer\n",
    "nn.add(\n",
    "    tf.keras.layers.Dense(units = hidden_nodes_layer1,\n",
    "                         input_dim = number_input_features,\n",
    "                         activation= \"relu\"))\n",
    "\n",
    "# Second hidden layer\n",
    "nn.add(tf.keras.layers.Dense(units = hidden_nodes_layer2, \n",
    "                             activation = \"relu\"))\n",
    "\n",
    "# Output layer\n",
    "nn.add(tf.keras.layers.Dense(units=1, \n",
    "                             activation=\"sigmoid\"))\n",
    "\n",
    "# Check the structure of the model\n",
    "nn.summary()"
   ]
  },
  {
   "cell_type": "code",
   "execution_count": null,
   "id": "316f44f5",
   "metadata": {},
   "outputs": [],
   "source": [
    "# Compile the model\n",
    "nn.compile(loss=\"binary_crossentropy\", optimizer=\"adam\", metrics=[\"accuracy\"])"
   ]
  },
  {
   "cell_type": "code",
   "execution_count": null,
   "id": "ce48c658",
   "metadata": {},
   "outputs": [],
   "source": [
    "# Train the model\n",
    "fit_model = nn.fit(X_train, y_train, epochs=100)"
   ]
  },
  {
   "cell_type": "code",
   "execution_count": null,
   "id": "05426c66",
   "metadata": {},
   "outputs": [],
   "source": [
    "# Evaluate the model using the test data\n",
    "model_loss, model_accuracy = nn.evaluate(X_test_scaled,y_test,verbose=2)\n",
    "print(f\"Loss: {model_loss}, Accuracy: {model_accuracy}\")"
   ]
  },
  {
   "cell_type": "code",
   "execution_count": null,
   "id": "97d84446",
   "metadata": {},
   "outputs": [],
   "source": [
    "pip show tensorflow"
   ]
  },
  {
   "cell_type": "code",
   "execution_count": null,
   "id": "a7475c7b",
   "metadata": {},
   "outputs": [],
   "source": [
    "from sklearn.ensemble import RandomForestClassifier\n",
    "from sklearn.metrics import accuracy_score\n",
    "\n",
    "# Create a random forest classifier.\n",
    "rf_model = RandomForestClassifier(n_estimators=128, random_state=78)\n",
    "\n",
    "# Fitting the model\n",
    "rf_model = rf_model.fit(X_train_scaled, y_train)\n",
    "\n",
    "# Evaluate the model\n",
    "y_pred = rf_model.predict(X_test_scaled)\n",
    "print(f\" Random forest predictive accuracy: {accuracy_score(y_test,y_pred):.3f}\")"
   ]
  },
  {
   "cell_type": "code",
   "execution_count": null,
   "id": "e386b9ef",
   "metadata": {},
   "outputs": [],
   "source": [
    "from sklearn.linear_model import LogisticRegression\n",
    "# define logistic regression model\n",
    "log_classifier = LogisticRegression(solver='lbfgs', max_iter=200)\n",
    "\n",
    "#Train the model\n",
    "log_classifier.fit(X_train, y_train)\n",
    "y_pred = log_classifier.predict(X_test)\n",
    "print(f\" Logistic regression model accuracy: {accuracy_score(y_test, y_pred):.3f}\")"
   ]
  },
  {
   "cell_type": "code",
   "execution_count": null,
   "id": "0256a037",
   "metadata": {},
   "outputs": [],
   "source": [
    "from sklearn.naive_bayes import GaussianNB\n",
    "\n",
    "gnb = GaussianNB()\n",
    "#Train the model\n",
    "y_pred = gnb.fit(X_train, y_train).predict(X_test)\n",
    "print(\"Number of mislabeled points out of a total %d points : %d\"\n",
    "      % (X_test.shape[0], (y_test != y_pred).sum()))\n",
    "print(f\" Logistic regression model accuracy: {accuracy_score(y_test, y_pred):.3f}\")"
   ]
  },
  {
   "cell_type": "code",
   "execution_count": null,
   "id": "454fe514",
   "metadata": {},
   "outputs": [],
   "source": [
    "\n",
    "from sklearn.ensemble import VotingClassifier\n",
    "from sklearn.svm import SVC\n",
    "\n",
    "clf1 = LogisticRegression()\n",
    "clf2 = RandomForestClassifier()\n",
    "clf3 = GaussianNB()\n",
    "clf4 = SVC(probability=True)\n",
    "\n",
    "eclf = VotingClassifier(estimators=[('LR', clf1), ('RF', clf2), ('GNB', clf3), ('SVC', clf4)],\n",
    "                        voting='soft', weights=[1,2,1,1])\n",
    "\n",
    "eclf.fit(X_train, y_train)"
   ]
  },
  {
   "cell_type": "code",
   "execution_count": null,
   "id": "92147a0b",
   "metadata": {},
   "outputs": [],
   "source": []
  }
 ],
 "metadata": {
  "kernelspec": {
   "display_name": "mlenv",
   "language": "python",
   "name": "mlenv"
  },
  "language_info": {
   "codemirror_mode": {
    "name": "ipython",
    "version": 3
   },
   "file_extension": ".py",
   "mimetype": "text/x-python",
   "name": "python",
   "nbconvert_exporter": "python",
   "pygments_lexer": "ipython3",
   "version": "3.7.13"
  }
 },
 "nbformat": 4,
 "nbformat_minor": 5
}
